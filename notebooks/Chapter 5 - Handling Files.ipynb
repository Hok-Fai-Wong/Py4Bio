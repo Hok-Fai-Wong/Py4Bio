{
 "cells": [
  {
   "cell_type": "markdown",
   "metadata": {},
   "source": [
    "Python for Bioinformatics\n",
    "-----------------------------\n",
    "\n",
    "![title](https://s3.amazonaws.com/py4bio/tapabiosmall.png)\n",
    "\n",
    "This Jupyter notebook is intented to be used alongside the book [Python for Bioinformatics](http://py3.us/)\n",
    "\n"
   ]
  },
  {
   "cell_type": "markdown",
   "metadata": {},
   "source": [
    "Chapter 5: Handling Files\n",
    "-----------------------------"
   ]
  },
  {
   "cell_type": "markdown",
   "metadata": {},
   "source": [
    "**Note:** Before opening the file, this file should be accesible from this Jupyter notebook. In order to do so, the following commands will download these files from Github and extract them into a directory called samples."
   ]
  },
  {
   "cell_type": "code",
   "execution_count": 2,
   "metadata": {
    "scrolled": true
   },
   "outputs": [
    {
     "name": "stdout",
     "output_type": "stream",
     "text": [
      "  % Total    % Received % Xferd  Average Speed   Time    Time     Time  Current\n",
      "                                 Dload  Upload   Total   Spent    Left  Speed\n",
      "100 16.5M  100 16.5M    0     0  4301k      0  0:00:03  0:00:03 --:--:-- 4301k\n",
      "BLAST_output.xml\n",
      "TAIR7_Transcripts_by_map_position.gz\n",
      "pMOSBlue.txt\n",
      "fishbacteria.csv\n",
      "UniVec_Core.nsq\n",
      "t3beta.fasta\n",
      "PythonU.db\n",
      "input4align.dnd\n",
      "pdb1apk.ent.gz\n",
      "readme.txt\n",
      "contig1.ace\n",
      "example.aln\n",
      "hsc1.fasta\n",
      "bioinfo/seqs/15721870.fasta\n",
      "primers.txt\n",
      "bioinfo/seqs/4586830.fasta\n",
      "bioinfo/seqs/7638455.fasta\n",
      "GSM188012.CEL\n",
      "3seqs.fas\n",
      "sampleX.fas\n",
      "sampleXblast.xml\n",
      "B1.csv\n",
      "phd1\n",
      "conglycinin.phy\n",
      "bioinfo/seqs/218744616.fasta\n",
      "spfile.txt\n",
      "bioinfo/seqs/513419.fasta\n",
      "bioinfo/seqs/513710.fasta\n",
      "prot.fas\n",
      "cas9align.fasta\n",
      "seqA.fas\n",
      "bioinfo/seqs/\n",
      "bioinfo/\n",
      "pdbaa\n",
      "other.xml\n",
      "vectorssmall.fasta\n",
      "t3.fasta\n",
      "a19.gp\n",
      "data.csv\n",
      "input4align.fasta\n",
      "B1IXL9.txt\n",
      "fasta22.fas\n",
      "bioinfo/seqs/7415878.fasta\n",
      "bioinfo/seqs/513718.fasta\n",
      "bioinfo/seqs/513719.fasta\n",
      "bioinfo/seqs/6598312.fasta\n",
      "UniVec_Core.nin\n",
      "Q5R5X8.fas\n",
      "bioinfo/seqs/513717.fasta\n",
      "BcrA.gp\n",
      "bioinfo/seqs/2623545.fasta\n",
      "bioinfo/seqs/63108399.fasta\n",
      "conglycinin.dnd\n",
      "NC2033.txt\n",
      "fishdata.csv\n",
      "uniprotrecord.xml\n",
      "BLAST_output.html\n",
      "Q9JJE1.xml\n",
      "test3.csv\n",
      "UniVec_Core.nhr\n",
      "sampledata.xlsx\n",
      "UniVec_Core\n",
      "NC_006581.gb\n",
      "conglycinin.multiple.phy\n",
      "conglycinin.fasta\n"
     ]
    }
   ],
   "source": [
    "!curl https://raw.githubusercontent.com/Serulab/Py4Bio/master/samples/samples.tar.bz2 -o samples.tar.bz2\n",
    "!mkdir samples\n",
    "!tar xvfj samples.tar.bz2 -C samples"
   ]
  },
  {
   "cell_type": "markdown",
   "metadata": {},
   "source": [
    "Once the previous command are executed, you can open the file"
   ]
  },
  {
   "cell_type": "code",
   "execution_count": 28,
   "metadata": {},
   "outputs": [],
   "source": [
    "file_handle = open('samples/readme.txt', 'r')"
   ]
  },
  {
   "cell_type": "code",
   "execution_count": 29,
   "metadata": {},
   "outputs": [
    {
     "data": {
      "text/plain": [
       "<_io.TextIOWrapper name='samples/readme.txt' mode='r' encoding='ANSI_X3.4-1968'>"
      ]
     },
     "execution_count": 29,
     "metadata": {},
     "output_type": "execute_result"
    }
   ],
   "source": [
    "file_handle"
   ]
  },
  {
   "cell_type": "code",
   "execution_count": 30,
   "metadata": {},
   "outputs": [
    {
     "data": {
      "text/plain": [
       "'>O00626|HUMAN Small inducible cytokine A22.\\nMARLQTALLVVLVLLAVALQATEAGPYGANMEDSVCCRDYVRYRLPLRVVKHFYWTSDSCPRPGVVLLTFRDKEICADPRVPWVKMILNKLSQ\\n'"
      ]
     },
     "execution_count": 30,
     "metadata": {},
     "output_type": "execute_result"
    }
   ],
   "source": [
    "file_handle = open('samples/seqA.fas', 'r')\n",
    "file_handle.read()"
   ]
  },
  {
   "cell_type": "code",
   "execution_count": 31,
   "metadata": {},
   "outputs": [],
   "source": [
    "file_handle = open('samples/readme.txt', 'r')\n",
    "# do something with the file\n",
    "file_handle.read()\n",
    "file_handle.close()"
   ]
  },
  {
   "cell_type": "code",
   "execution_count": 32,
   "metadata": {},
   "outputs": [
    {
     "name": "stdout",
     "output_type": "stream",
     "text": [
      "It is a fake text! \n",
      "\n"
     ]
    }
   ],
   "source": [
    "with open('samples/readme.txt', 'r') as file_handle:\n",
    "    print(file_handle.read())\n"
   ]
  },
  {
   "cell_type": "code",
   "execution_count": 33,
   "metadata": {},
   "outputs": [
    {
     "name": "stdout",
     "output_type": "stream",
     "text": [
      ">O00626|HUMAN Small inducible cytokine A22.\n",
      "MARLQTALLVVLVLLAVALQATEAGPYGANMEDSVCCRDYVRYRLPLRVVKHFYWTSDSCPRPGVVLLTFRDKEICADPRVPWVKMILNKLSQ\n",
      "\n"
     ]
    }
   ],
   "source": [
    "with open('samples/seqA.fas', 'r') as file_handle:\n",
    "    print(file_handle.read())"
   ]
  },
  {
   "cell_type": "markdown",
   "metadata": {},
   "source": [
    "**Listing 5.1:** firstread.py: First try to read a FASTA file"
   ]
  },
  {
   "cell_type": "code",
   "execution_count": 2,
   "metadata": {
    "scrolled": false
   },
   "outputs": [
    {
     "name": "stdout",
     "output_type": "stream",
     "text": [
      "The name is : O00626|HUMAN Small inducible cytokine A22.\n",
      "The sequence is: MARLQTALLVVLVLLAVALQATEAGPYGANMEDSVCCRDYVRYRLPLRVVKHFYWTSDSCPRPGVVLLTFRDKEICADPRVPWVKMILNKLSQ\n"
     ]
    }
   ],
   "source": [
    "with open('samples/seqA.fas') as fh:\n",
    "    my_file = fh.read()\n",
    "name = my_file.split('\\n')[0][1:]\n",
    "sequence = ''.join(my_file.split('\\n')[1:])\n",
    "print('The name is : {0}'.format(name))\n",
    "print('The sequence is: {0}'.format(sequence))"
   ]
  },
  {
   "cell_type": "markdown",
   "metadata": {},
   "source": [
    "**Listing 5.2:** fastaRead.py: Reads FASTA file, sequentially"
   ]
  },
  {
   "cell_type": "code",
   "execution_count": 35,
   "metadata": {},
   "outputs": [
    {
     "name": "stdout",
     "output_type": "stream",
     "text": [
      "The name is : O00626|HUMAN Small inducible cytokine A22.\n",
      "The sequence is:  MARLQTALLVVLVLLAVALQATEAGPYGANMEDSVCCRDYVRYRLPLRVVKHFYWTSDSCPRPGVVLLTFRDKEICADPRVPWVKMILNKLSQ\n"
     ]
    }
   ],
   "source": [
    "sequence = ' ' \n",
    "with open('samples/seqA.fas') as fh:\n",
    "    name = fh.readline()[1:-1]\n",
    "    for line in fh:\n",
    "        sequence += line.replace('\\n','')\n",
    "print('The name is : {0}'.format(name))\n",
    "print('The sequence is: {0}'.format(sequence))"
   ]
  },
  {
   "cell_type": "markdown",
   "metadata": {},
   "source": [
    "**Listing 5.3:** netchargefile.py: Calculate the net charge, reading the input from\n",
    "a file"
   ]
  },
  {
   "cell_type": "code",
   "execution_count": 36,
   "metadata": {},
   "outputs": [
    {
     "name": "stdout",
     "output_type": "stream",
     "text": [
      "3.046999999999999\n"
     ]
    }
   ],
   "source": [
    "sequence = ''\n",
    "charge = -0.002\n",
    "aa_charge = {'C':-.045, 'D':-.999, 'E':-.998, 'H':.091,\n",
    "'K':1, 'R':1, 'Y':-.001}\n",
    "with open('samples/prot.fas') as fh:\n",
    "    fh.readline()\n",
    "    for line in fh:\n",
    "        sequence += line[:-1].upper()\n",
    "for aa in sequence:\n",
    "    charge += aa_charge.get(aa,0)\n",
    "print(charge)"
   ]
  },
  {
   "cell_type": "code",
   "execution_count": 37,
   "metadata": {},
   "outputs": [],
   "source": [
    "fh = open('samples/newfile.txt','w')"
   ]
  },
  {
   "cell_type": "code",
   "execution_count": 38,
   "metadata": {},
   "outputs": [],
   "source": [
    "fh = open('samples/error.log','a')"
   ]
  },
  {
   "cell_type": "markdown",
   "metadata": {},
   "source": [
    "**Listing 5.4:** Newfile.py: Write numbers to a file."
   ]
  },
  {
   "cell_type": "code",
   "execution_count": 39,
   "metadata": {},
   "outputs": [],
   "source": [
    "with open('samples/numbers.txt','w') as fh:\n",
    "    fh.write('1\\n2\\n3\\n4\\n5')"
   ]
  },
  {
   "cell_type": "markdown",
   "metadata": {},
   "source": [
    "**Listing 5.5:** nettofile.py Net charge calculation, saving results in a file"
   ]
  },
  {
   "cell_type": "code",
   "execution_count": 40,
   "metadata": {},
   "outputs": [],
   "source": [
    "sequence = ' '\n",
    "charge = -0.002\n",
    "aa_charge = {'C':-.045, 'D':-.999, 'E':-.998, 'H':.091,\n",
    "'K':1, 'R':1, 'Y':-.001}\n",
    "with open('samples/prot.fas') as fh:\n",
    "    next(fh)\n",
    "    for line in fh:\n",
    "        sequence += line[:-1].upper()\n",
    "for aa in sequence:\n",
    "    charge += aa_charge.get(aa, 0)\n",
    "with open('samples/out.txt','w') as file_out:\n",
    "    file_out.write(str(charge))"
   ]
  },
  {
   "cell_type": "markdown",
   "metadata": {},
   "source": [
    "**Listing 5.6:** csvwocsv.py: Reading data from a CSV file"
   ]
  },
  {
   "cell_type": "code",
   "execution_count": 6,
   "metadata": {},
   "outputs": [
    {
     "name": "stdout",
     "output_type": "stream",
     "text": [
      "190.6\n"
     ]
    }
   ],
   "source": [
    "total_len = 0\n",
    "with open('samples/B1.csv') as fh:\n",
    "    next(fh)\n",
    "    for n, line in enumerate(fh):\n",
    "        data = line.split(',')\n",
    "        total_len += int(data[1])\n",
    "print(total_len/(n+1))"
   ]
  },
  {
   "cell_type": "markdown",
   "metadata": {},
   "source": [
    "**Listing 5.7:** csv1.py: Reading data from a CSV file, using csv module"
   ]
  },
  {
   "cell_type": "code",
   "execution_count": 5,
   "metadata": {},
   "outputs": [
    {
     "name": "stdout",
     "output_type": "stream",
     "text": [
      "190.6\n"
     ]
    }
   ],
   "source": [
    "import csv\n",
    "total_len=0\n",
    "lines = csv.reader(open('samples/B1.csv'))\n",
    "next(lines)\n",
    "for n, line in enumerate(lines):\n",
    "    total_len += int(line[1])\n",
    "print(total_len/(n+1))"
   ]
  },
  {
   "cell_type": "code",
   "execution_count": 4,
   "metadata": {},
   "outputs": [
    {
     "data": {
      "text/plain": [
       "'MotifAmpForSeq'"
      ]
     },
     "execution_count": 4,
     "metadata": {},
     "output_type": "execute_result"
    }
   ],
   "source": [
    "data = list(csv.reader(open('samples/B1.csv')))\n",
    "data[0][2]"
   ]
  },
  {
   "cell_type": "code",
   "execution_count": 5,
   "metadata": {},
   "outputs": [
    {
     "data": {
      "text/plain": [
       "'119'"
      ]
     },
     "execution_count": 5,
     "metadata": {},
     "output_type": "execute_result"
    }
   ],
   "source": [
    "data[1][1]"
   ]
  },
  {
   "cell_type": "code",
   "execution_count": 7,
   "metadata": {},
   "outputs": [
    {
     "data": {
      "text/plain": [
       "'AG(12)'"
      ]
     },
     "execution_count": 7,
     "metadata": {},
     "output_type": "execute_result"
    }
   ],
   "source": [
    "data[1][2]"
   ]
  },
  {
   "cell_type": "code",
   "execution_count": 8,
   "metadata": {},
   "outputs": [
    {
     "data": {
      "text/plain": [
       "'TKO003'"
      ]
     },
     "execution_count": 8,
     "metadata": {},
     "output_type": "execute_result"
    }
   ],
   "source": [
    "data[3][0]"
   ]
  },
  {
   "cell_type": "code",
   "execution_count": 9,
   "metadata": {},
   "outputs": [],
   "source": [
    "rows = csv.reader(open('/etc/passwd'), delimiter=':')"
   ]
  },
  {
   "cell_type": "code",
   "execution_count": 7,
   "metadata": {},
   "outputs": [],
   "source": [
    "rows = csv.reader(open('samples/data.csv'), dialect='excel')"
   ]
  },
  {
   "cell_type": "code",
   "execution_count": 11,
   "metadata": {},
   "outputs": [
    {
     "name": "stdout",
     "output_type": "stream",
     "text": [
      "['Entry', 'Entry name', 'Status', 'Protein names', 'Gene names', 'Organism', 'Length']\n",
      "['Q8BG02', '2ABG_MOUSE', 'reviewed', 'Serine/threonine-protein phosphatase 2A 55 kDa regulatory subunit B gamma isoform (PP2A subunit B isoform B55-gamma) (PP2A subunit B isoform PR55-gamma) (PP2A subunit B isoform R2-gamma) (PP2A subunit B isoform gamma)', 'Ppp2r2c', 'Mus musculus (Mouse)', '447']\n"
     ]
    }
   ],
   "source": [
    "dialect = csv.Sniffer().sniff(open('samples/data.csv').read())\n",
    "rows = csv.reader(open('samples/data.csv'), dialect=dialect)\n",
    "print(next(rows))\n",
    "print(next(rows))"
   ]
  },
  {
   "cell_type": "markdown",
   "metadata": {},
   "source": [
    "**Listing 5.8:** excel1.py: Reading an xlsx file with xlrd"
   ]
  },
  {
   "cell_type": "code",
   "execution_count": 9,
   "metadata": {
    "scrolled": true
   },
   "outputs": [
    {
     "name": "stdout",
     "output_type": "stream",
     "text": [
      "{6273: 'CGAELNHFL', 14101: 'ERYLKDQQL', 22030: 'GRFKLIVLY', 25569: 'IDFPKTFGW', 26070: 'IFFPKTFGW', 26790: 'IKFPKTFGW', 27049: 'ILFPKTFGW', 27636: 'INFPKTFGW', 28419: 'IRYPKTFGW', 33140: 'KRGILTLKY', 33170: 'KRKKAYADF', 33260: 'KRYKSIVKY', 55565: 'RRFVNVVPTF', 55785: 'RRYQKSTEL', 58781: 'SKADVIAKY', 60636: 'SRDKTIIMW', 63789: 'TGASIQTTL', 144753: 'QRSPMFEGTL', 144784: 'SKFPKMRMG', 226822: 'AKFPGMKKSK', 504020: 'NQFNGGCLLV'}\n"
     ]
    }
   ],
   "source": [
    "import xlrd\n",
    "iedb = {}\n",
    "book = xlrd.open_workbook('samples/sampledata.xlsx')\n",
    "sh = book.sheet_by_index(0)\n",
    "for row_index in range(1, sh.nrows): #skips fist line.\n",
    "    iedb[int(sh.cell_value(rowx=row_index, colx=0))] = \\\n",
    "        sh.cell_value(rowx=row_index, colx=2)\n",
    "print(iedb)"
   ]
  },
  {
   "cell_type": "markdown",
   "metadata": {},
   "source": [
    "**Listing 5.9:** excel2.py: Write an XLS file with xlwt"
   ]
  },
  {
   "cell_type": "code",
   "execution_count": 12,
   "metadata": {},
   "outputs": [],
   "source": [
    "import xlwt\n",
    "list1 = [1,2,3,4,5]\n",
    "list2 = [234,267,281,301,331]\n",
    "wb = xlwt.Workbook()\n",
    "ws = wb.add_sheet('First sheet')\n",
    "ws.write(0,0,'Column A')\n",
    "ws.write(0,1,'Column B')\n",
    "i = 1\n",
    "for x,y in zip(list1,list2): #Walk two list at the same time.\n",
    "    ws.write(i,0,x) # Row, Column, Data.\n",
    "    ws.write(i,1,y)\n",
    "    i += 1\n",
    "wb.save('mynewfile.xls')"
   ]
  },
  {
   "cell_type": "markdown",
   "metadata": {},
   "source": [
    "**Listing 5.10:** picklesample.py: Basic pickle sample"
   ]
  },
  {
   "cell_type": "code",
   "execution_count": 13,
   "metadata": {
    "collapsed": true
   },
   "outputs": [],
   "source": [
    "import pickle\n",
    "sp_dict = {'one':'uno', 'two':'dos', 'three':'tres'}\n",
    "with open('spdict.data', 'wb') as fh:\n",
    "    pickle.dump(sp_dict, fh)"
   ]
  },
  {
   "cell_type": "code",
   "execution_count": 14,
   "metadata": {},
   "outputs": [
    {
     "data": {
      "text/plain": [
       "{'one': 'uno', 'three': 'tres', 'two': 'dos'}"
      ]
     },
     "execution_count": 14,
     "metadata": {},
     "output_type": "execute_result"
    }
   ],
   "source": [
    "import pickle\n",
    "pickle.load(open('spdict.data','rb'))\n",
    "{'one':'uno', 'two':'dos', 'three':'tres'}"
   ]
  }
 ],
 "metadata": {
  "kernelspec": {
   "display_name": "Python 3.6",
   "language": "python",
   "name": "python36"
  },
  "language_info": {
   "codemirror_mode": {
    "name": "ipython",
    "version": 3
   },
   "file_extension": ".py",
   "mimetype": "text/x-python",
   "name": "python",
   "nbconvert_exporter": "python",
   "pygments_lexer": "ipython3",
   "version": "3.6.6"
  }
 },
 "nbformat": 4,
 "nbformat_minor": 2
}
